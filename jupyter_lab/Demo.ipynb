{
 "cells": [
  {
   "cell_type": "markdown",
   "metadata": {
    "slideshow": {
     "slide_type": "slide"
    }
   },
   "source": [
    "# Try JupyterLab \n",
    "\n",
    "JupyterLab: The next generation user interface for Project Jupyter\n",
    "\n",
    "https://github.com/jupyter/jupyterlab\n",
    "\n",
    "It has been a collaboration between:\n",
    "\n",
    "* Project Jupyter\n",
    "* Bloomberg\n",
    "* Anaconda"
   ]
  },
  {
   "cell_type": "markdown",
   "metadata": {
    "slideshow": {
     "slide_type": "slide"
    }
   },
   "source": [
    "## 1) Building blocks of interactive computing\n",
    "\n",
    "### Start with the launcher\n",
    "\n",
    "Use it to open different activities:\n",
    "\n",
    "* Notebook\n",
    "* Console\n",
    "* Editor\n",
    "* Terminal"
   ]
  },
  {
   "cell_type": "markdown",
   "metadata": {
    "slideshow": {
     "slide_type": "slide"
    }
   },
   "source": [
    "### Notebooks\n",
    "\n",
    "* Open example notebooks to show that notebooks still work\n",
    "* Collapse input/output\n",
    "* Drag and drop cells"
   ]
  },
  {
   "cell_type": "markdown",
   "metadata": {
    "slideshow": {
     "slide_type": "slide"
    }
   },
   "source": [
    "### Demonstrate left panel plugins:\n",
    "\n",
    "* File Browser (file operations, context menu, including drag and drop)\n",
    "* Running\n",
    "* Command Palette (fuzzy searching for 'new')"
   ]
  },
  {
   "cell_type": "markdown",
   "metadata": {
    "slideshow": {
     "slide_type": "slide"
    }
   },
   "source": [
    "### Markdown example\n",
    "\n",
    "* Open `markdown_python.md` in the File Editor\n",
    "* View the rendered markdown, arrange side by side\n",
    "* Attach a Kernel/Console and run the code by selecting blocks and pressing\n",
    "  `Shift+Enter`\n",
    "\n",
    "    "
   ]
  },
  {
   "cell_type": "markdown",
   "metadata": {
    "slideshow": {
     "slide_type": "slide"
    }
   },
   "source": [
    "### Arrange the building blocks in the main area\n",
    "\n",
    "The dock panel allows you to arrange the activites into an\n",
    "arbitrary layout.\n",
    "\n",
    "Tabs and single document mode allow you to focus."
   ]
  }
 ],
 "metadata": {
  "celltoolbar": "Slideshow",
  "kernelspec": {
   "display_name": "Python 3",
   "language": "python",
   "name": "python3"
  },
  "language_info": {
   "codemirror_mode": {
    "name": "ipython",
    "version": 3
   },
   "file_extension": ".py",
   "mimetype": "text/x-python",
   "name": "python",
   "nbconvert_exporter": "python",
   "pygments_lexer": "ipython3",
   "version": "3.6.5"
  }
 },
 "nbformat": 4,
 "nbformat_minor": 2
}

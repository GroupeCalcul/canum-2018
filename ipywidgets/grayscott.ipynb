{
 "cells": [
  {
   "cell_type": "markdown",
   "metadata": {},
   "source": [
    "# Modèle de Gray-Scott\n",
    "\n",
    "&nbsp;\n",
    "\n",
    "<center>**Loic Gouarin**</center>\n",
    "<center>11 juillet 2017</center>\n",
    "\n",
    "&nbsp;"
   ]
  },
  {
   "cell_type": "markdown",
   "metadata": {},
   "source": [
    "Le modèle de Gray-Scott permet de simuler deux espèces chimiques $A$ et $B$ qui réagissent entre elles et qui diffusent.\n",
    "\n",
    "Le modèle mathématique est assez simple\n",
    "\n",
    "$$\n",
    "\\begin{array}{l}\n",
    "\\frac{\\partial A}{\\partial t} = D_A \\Delta A - AB^2 + f(1-A) \\\\\n",
    "\\frac{\\partial B}{\\partial t} = D_B \\Delta B + AB^2 - (k+f)B\n",
    "\\end{array}\n",
    "$$\n",
    "\n",
    "On peut approcher le laplacien par un schéma aux différences finies à 5 points. \n",
    "\n",
    "$$\n",
    "\\Delta A_{i,j} \\approx A_{i,j-1} + A_{i-1,j} -4A_{i,j} + A_{i+1, j} + A_{i, j+1}\n",
    "$$\n",
    "\n",
    "La dérivée en temps peut être approchée par un schéma d'Euler explicite."
   ]
  },
  {
   "cell_type": "markdown",
   "metadata": {},
   "source": [
    "## Initialisation\n",
    "\n",
    "$A$ vaut $1$ partout et $B$ vaut $0$ partout sauf à un endroit du domaine où on met $0.25$ pour $B$ et $0.5$ pour A. Cet endroit sera un carré situé au centre du domaine $[0, 1]\\times[0,1]$ et de coté $0.2$.\n",
    "\n",
    "Ecrivez la fonction **init** qui prend en paramètre le nombre de points dans chaque direction et qui initialise $A$ et $B$.\n",
    "\n",
    "Le prototype de la fonction est le suivant"
   ]
  },
  {
   "cell_type": "code",
   "execution_count": null,
   "metadata": {
    "scrolled": true
   },
   "outputs": [],
   "source": [
    "import numpy as np\n",
    "import matplotlib.pyplot as plt\n",
    "import matplotlib.animation as animation\n",
    "import matplotlib.cm as cm"
   ]
  },
  {
   "cell_type": "code",
   "execution_count": null,
   "metadata": {
    "scrolled": true
   },
   "outputs": [],
   "source": [
    "def init(n):\n",
    "    \"\"\"\n",
    "    Initialise deux matrices A et B de taille (n+2,n+2)de la manière suivante\n",
    "    \n",
    "    A vaut 1 et B vaut 0 partout sauf dans le carré situé au centre du domaine [0,1]×[0,1]  \n",
    "    et de coté  0.2 où A = 0.5 et B = 0.25. \n",
    "    \n",
    "    Paramètres\n",
    "    ----------\n",
    "    \n",
    "    n : un entier représentant le nombre de points intérieurs\n",
    "    \n",
    "    Sorties\n",
    "    -------\n",
    "    \n",
    "    A et B\n",
    "    \n",
    "    \"\"\"\n",
    "    A = np.ones((n+2,n+2))\n",
    "    B = np.zeros((n+2,n+2))\n",
    "\n",
    "    x = np.linspace(0, 1, n+2)\n",
    "    y = np.linspace(0, 1, n+2)[:, np.newaxis]\n",
    "\n",
    "    maskx = np.logical_and(.4<x, x<.6)\n",
    "    masky = np.logical_and(.4<y, y<.6)\n",
    "    mask = np.logical_and(maskx, masky)\n",
    "    \n",
    "    A[mask] = 0.50\n",
    "    B[mask] = 0.25\n",
    "    \n",
    "    return A, B"
   ]
  },
  {
   "cell_type": "markdown",
   "metadata": {},
   "source": [
    "## Conditions périodiques\n",
    "\n",
    "On supposera dans la suite que nous aurons des conditions périodiques au bords.\n",
    "\n",
    "Ecrivez une fonction **period_fonc** qui prend en paramètre un tableau 2d $u$ et qui lui applique les conditions périodiques. \n",
    "\n",
    "Le prototype est le suivant"
   ]
  },
  {
   "cell_type": "code",
   "execution_count": null,
   "metadata": {
    "scrolled": true
   },
   "outputs": [],
   "source": [
    "def periodic_cond(u):\n",
    "    \"\"\"\n",
    "    Applique les conditions périodiques au tableau 2d u\n",
    "    \"\"\"\n",
    "    u[0, :] = u[-2, :]\n",
    "    u[-1, :] = u[1, :]\n",
    "    u[:, 0] = u[:, -2]\n",
    "    u[:, -1] = u[:, 1]"
   ]
  },
  {
   "cell_type": "markdown",
   "metadata": {},
   "source": [
    "## Laplacien\n",
    "\n",
    "Ecrivez une fonction **laplacien** qui prend en paramètre un tableau 2d $u$ de taille $(n+2, n+2)$ et qui retourne le laplacien pour les points intérieurs (la taille est $(n,n)$).\n",
    "\n",
    "Le prototype est le suivant"
   ]
  },
  {
   "cell_type": "code",
   "execution_count": null,
   "metadata": {
    "scrolled": true
   },
   "outputs": [],
   "source": [
    "def laplacian(u):\n",
    "    \"\"\"\n",
    "    Applique le laplacien 2d au tableau u et le renvoie.\n",
    "    \"\"\"\n",
    "    return (                  u[ :-2, 1:-1] +\n",
    "             u[1:-1, :-2] - 4*u[1:-1, 1:-1] + u[1:-1, 2:] +\n",
    "                          +   u[2:  , 1:-1] )"
   ]
  },
  {
   "cell_type": "markdown",
   "metadata": {},
   "source": [
    "## Gray-Scott\n",
    "\n",
    "Ecrivez la fonction **grayscott** qui prend en paramètres d'entrée $A$, $B$, $D_A$, $D_B$, $f$ et $k$ et qui applique le modèle de Gray-Scott. On prendra un schéma d'Euler explicite pour l'intégration en temps avec un pas égal à $1$.\n",
    "\n",
    "Le prototype est le suivant"
   ]
  },
  {
   "cell_type": "code",
   "execution_count": null,
   "metadata": {
    "scrolled": true
   },
   "outputs": [],
   "source": [
    "def grayscott(A, B, Da, Db, f, k):\n",
    "    \"\"\"\n",
    "    Applique le modèle de Gray-Scott aux matrices A et B.\n",
    "    \n",
    "    A la fin de l'intégration en temps, on applique les conditions \n",
    "    périodiques sur les deux matrices.\n",
    "    \"\"\"\n",
    "    a, b = A[1:-1,1:-1], B[1:-1,1:-1]\n",
    "\n",
    "    La = laplacian(A)\n",
    "    Lb = laplacian(B)\n",
    "\n",
    "    abb = a*b*b\n",
    "    a += Da*La - abb + f*(1 - a)\n",
    "    b += Db*Lb + abb - (f + k)*b\n",
    "\n",
    "    periodic_cond(A)\n",
    "    periodic_cond(B)"
   ]
  },
  {
   "cell_type": "markdown",
   "metadata": {},
   "source": [
    "## Représentation graphique\n",
    "\n",
    "Nous utiliserons les données suivantes."
   ]
  },
  {
   "cell_type": "code",
   "execution_count": null,
   "metadata": {
    "scrolled": true
   },
   "outputs": [],
   "source": [
    "Da, Db = .1, .05\n",
    "#f, k = 0.0367, 0.0649 \n",
    "f, k = 0.0545, 0.062\n",
    "#f, k = 0.018, 0.050\n",
    "#f, k = 0.050, 0.065\n",
    "#f, k = 0.035, 0.060"
   ]
  },
  {
   "cell_type": "markdown",
   "metadata": {},
   "source": [
    "Ecrivez une fonction **animate** qui exécute quarante fois la fonction **grayscott** et qui met à jour les données d'un **imshow** que l'on aura initialisé."
   ]
  },
  {
   "cell_type": "code",
   "execution_count": null,
   "metadata": {
    "scrolled": true
   },
   "outputs": [],
   "source": [
    "def animate(i):\n",
    "    for t in range(40):\n",
    "        grayscott(A, B, Da, Db, f, k)\n",
    "    image.set_array(B)\n",
    "    #return image,"
   ]
  },
  {
   "cell_type": "markdown",
   "metadata": {},
   "source": [
    "Testez votre fonction avec le script suivant."
   ]
  },
  {
   "cell_type": "code",
   "execution_count": null,
   "metadata": {
    "scrolled": false
   },
   "outputs": [],
   "source": [
    "%matplotlib nbagg\n",
    "\n",
    "fig = plt.figure()\n",
    "\n",
    "A, B = init(300)\n",
    "\n",
    "image = plt.imshow(B,  cmap = cm.Greys)\n",
    "\n",
    "anim = animation.FuncAnimation(fig, animate, frames=500, interval=10)\n",
    "#anim.save('grayscott.mp4', fps=20, dpi=300)\n",
    "\n",
    "plt.show()"
   ]
  },
  {
   "cell_type": "code",
   "execution_count": null,
   "metadata": {},
   "outputs": [],
   "source": [
    "from tqdm import tqdm_notebook as tqdm\n",
    "from PIL import Image\n",
    "A, B = init(300)\n",
    "\n",
    "def create_image():\n",
    "    global A, B\n",
    "    for t in range(40):\n",
    "        grayscott(A, B, Da, Db, f, k)\n",
    "    B_scaled = np.uint8(255*(B-B.min()) / (B.max()-B.min()))\n",
    "    return B_scaled\n",
    "\n",
    "def create_frames(n):\n",
    "\n",
    "    return [create_image() for i in tqdm(range(n))]\n",
    "    \n",
    "frames = create_frames(500)"
   ]
  },
  {
   "cell_type": "code",
   "execution_count": null,
   "metadata": {},
   "outputs": [],
   "source": [
    "from ipywidgets import interact, IntSlider\n",
    "\n",
    "def display_image(x):\n",
    "    \n",
    "    return Image.fromarray(x)\n",
    "\n",
    "def display_sequence(iframe):\n",
    "    \n",
    "    return display_image(frames[iframe])\n",
    "    \n",
    "interact(display_sequence, \n",
    "         iframe=IntSlider(min=0,\n",
    "                          max=len(frames)-1,\n",
    "                          step=1,\n",
    "                          value=0, \n",
    "                          continuous_update=True))"
   ]
  },
  {
   "cell_type": "code",
   "execution_count": null,
   "metadata": {},
   "outputs": [],
   "source": [
    "import imageio\n",
    "frames_scaled = [np.uint8(255 * frame) for frame in frames]\n",
    "imageio.mimsave('movie.gif', frames_scaled, format='gif', fps=60)"
   ]
  },
  {
   "cell_type": "markdown",
   "metadata": {},
   "source": [
    "![grayscott](movie.gif \"grayscott\")"
   ]
  },
  {
   "cell_type": "code",
   "execution_count": null,
   "metadata": {},
   "outputs": [],
   "source": [
    "from IPython.display import display\n",
    "from ipywidgets import Button, FloatSlider, HBox, Label\n",
    "\n",
    "caption = Label(value='f:')\n",
    "\n",
    "f_slider = FloatSlider(min=0.010, max=0.050, step=0.0001, \n",
    "                     value=0.0545, description='f:')\n",
    "k_slider = FloatSlider(min=0.050, max=0.070, step=0.0001,\n",
    "                     value=0.062, description='k:')\n",
    "\n",
    "def handle_slider_change(change):\n",
    "    caption.value = f' f = {f_slider.value}, k = {k_slider.value}'\n",
    "    \n",
    "\n",
    "f_slider.observe(handle_slider_change, names='value')\n",
    "k_slider.observe(handle_slider_change, names='value')\n",
    "\n",
    "button = Button(description=\"Run\")\n",
    "display(button)\n",
    "\n",
    "def run_button_clicked(b):\n",
    "    print(\"Run\")\n",
    "    f, k = f_slider.value, k_slider.value\n",
    "    A, B = init(300)\n",
    "    frames = create_frames(500)\n",
    "    return interact(display_sequence, \n",
    "         iframe=IntSlider(min=0,\n",
    "                          max=len(frames)-1,\n",
    "                          step=1,\n",
    "                          value=0, \n",
    "                          continuous_update=True))\n",
    "\n",
    "display(f_slider, k_slider, caption )\n",
    "\n",
    "button.on_click(run_button_clicked)\n"
   ]
  },
  {
   "cell_type": "code",
   "execution_count": null,
   "metadata": {},
   "outputs": [],
   "source": [
    "import imageio\n",
    "frames_scaled = [np.uint8(255 * frame) for frame in frames]\n",
    "imageio.mimsave('movie.gif', frames_scaled, format='gif', fps=60)"
   ]
  },
  {
   "cell_type": "code",
   "execution_count": null,
   "metadata": {
    "scrolled": true
   },
   "outputs": [],
   "source": [
    "# execute this part to modify the css style\n",
    "from IPython.core.display import HTML\n",
    "def css_styling():\n",
    "    styles = open(\"../style/custom.css\", \"r\").read()\n",
    "    return HTML(styles)\n",
    "css_styling()"
   ]
  },
  {
   "cell_type": "code",
   "execution_count": null,
   "metadata": {
    "scrolled": true
   },
   "outputs": [],
   "source": [
    "%%javascript\n",
    "IPython.OutputArea.prototype._should_scroll = function(lines) {\n",
    "    return false;\n",
    "}"
   ]
  },
  {
   "cell_type": "code",
   "execution_count": null,
   "metadata": {},
   "outputs": [],
   "source": []
  }
 ],
 "metadata": {
  "kernelspec": {
   "display_name": "Python 3",
   "language": "python",
   "name": "python3"
  },
  "language_info": {
   "codemirror_mode": {
    "name": "ipython",
    "version": 3
   },
   "file_extension": ".py",
   "mimetype": "text/x-python",
   "name": "python",
   "nbconvert_exporter": "python",
   "pygments_lexer": "ipython3",
   "version": "3.6.5"
  }
 },
 "nbformat": 4,
 "nbformat_minor": 1
}

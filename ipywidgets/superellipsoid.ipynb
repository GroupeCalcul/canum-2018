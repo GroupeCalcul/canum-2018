{
 "cells": [
  {
   "cell_type": "markdown",
   "metadata": {},
   "source": [
    "# How to use pythreejs to plot a superellipsoid"
   ]
  },
  {
   "cell_type": "markdown",
   "metadata": {},
   "source": [
    "A superellipsoid is given by a parametric function and the equation is very similar to an ellipse equation. We only have different exponents which give us different shapes. For more informations: https://en.wikipedia.org/wiki/Superellipsoid.\n",
    "\n",
    "The idea of this example is to construct the mesh of the square $[0, 1]\\times[0,1]$ and to do a projection of these points on the superillipse which is the 2D shape and then to do a spherical product to have the 3D shape."
   ]
  },
  {
   "cell_type": "code",
   "execution_count": 1,
   "metadata": {},
   "outputs": [],
   "source": [
    "import numpy as np"
   ]
  },
  {
   "cell_type": "code",
   "execution_count": 2,
   "metadata": {},
   "outputs": [],
   "source": [
    "def superellipsoid(n, rx, ry, rz, m1, m2):\n",
    "    \"\"\"\n",
    "    superellipsoid formula with the spherical product of two superellipse\n",
    "    and update of the global coords array\n",
    "    \n",
    "    Parameters\n",
    "    ----------\n",
    "    rx : the radius in the x direction \n",
    "    ry : the radius in the y direction \n",
    "    rz : the radius in the z direction \n",
    "    m1 : the exponent of the first superellipse\n",
    "    m2 : the exponent of the second superellipse\n",
    "    \"\"\"\n",
    "    \n",
    "    x_box = np.concatenate((np.linspace(-1, 1., n), np.ones(n-2), np.linspace(1, -1., n), -np.ones(n-2)))\n",
    "    y_box = np.concatenate((-np.ones(n-1), np.linspace(-1, 1., n), np.ones(n-2), np.linspace(1, -1., n-1, endpoint=False)))\n",
    "    nx_box = x_box.size\n",
    "\n",
    "    coords = np.empty((nx_box**2, 3), dtype=np.float32)\n",
    "    \n",
    "    def superellipse(rx, ry, m):\n",
    "        \"\"\"\n",
    "        superellipse formula with the projection of the unit square\n",
    "\n",
    "        Parameters\n",
    "        ----------\n",
    "        rx : the radius in the x direction \n",
    "        ry : the radius in the y direction \n",
    "        m : the exponent of the superellipse\n",
    "\n",
    "        Output\n",
    "        ------\n",
    "        the coordinates of the superellipse\n",
    "        \"\"\"\n",
    "        return x_box*rx*(1. - .5*np.abs(y_box)**(2./m))**(m/2.),  y_box*ry*(1. - .5*np.abs(x_box)**(2./m))**(m/2.)\n",
    "\n",
    "    gx, gy = superellipse(1, 1, m2)\n",
    "    hx, hy = superellipse(1, 1, m1)\n",
    "    \n",
    "    coords[:, 0] = rx*(gx[np.newaxis, :]*hx[:, np.newaxis]).flatten()\n",
    "    coords[:, 1] = ry*(gx[np.newaxis, :]*hy[:, np.newaxis]).flatten()\n",
    "    coords[:, 2] = rz*(gy[np.newaxis, :]*np.ones(hx.size)[:, np.newaxis]).flatten()\n",
    "    \n",
    "    return coords"
   ]
  },
  {
   "cell_type": "code",
   "execution_count": 3,
   "metadata": {},
   "outputs": [],
   "source": [
    "# superellipsoid parameters\n",
    "n = 20\n",
    "rx = ry = rz = 1.\n",
    "m1 = m2 = 1.\n",
    "\n",
    "coords = superellipsoid(n, rx, ry, rz, m1, m2)"
   ]
  },
  {
   "cell_type": "code",
   "execution_count": 4,
   "metadata": {},
   "outputs": [],
   "source": [
    "from pythreejs import *\n",
    "from IPython.display import display\n",
    "\n",
    "view_width = 600\n",
    "view_height = 400\n",
    "\n",
    "vertices = BufferAttribute(\n",
    "    array=coords,\n",
    "    normalized=False)\n",
    "\n",
    "meshGeometry = BufferGeometry(\n",
    "    attributes={\n",
    "        'position': vertices,\n",
    "    }\n",
    ")"
   ]
  },
  {
   "cell_type": "code",
   "execution_count": 5,
   "metadata": {},
   "outputs": [],
   "source": [
    "texture = ImageTexture('disc.png')"
   ]
  },
  {
   "cell_type": "code",
   "execution_count": 6,
   "metadata": {},
   "outputs": [],
   "source": [
    "pointsMaterial = PointsMaterial(\n",
    "    color='#80bfff',\n",
    "    map=texture,\n",
    "    size=.1,\n",
    "    alphaTest=0.5,\n",
    ")"
   ]
  },
  {
   "cell_type": "code",
   "execution_count": 7,
   "metadata": {},
   "outputs": [],
   "source": [
    "points = Points(\n",
    "    geometry=meshGeometry,\n",
    "    material=pointsMaterial    \n",
    ")"
   ]
  },
  {
   "cell_type": "code",
   "execution_count": 8,
   "metadata": {},
   "outputs": [],
   "source": [
    "camera = PerspectiveCamera(\n",
    "    position=[2, 2, 1],\n",
    "    aspect=view_width / view_height,\n",
    "    near=1,\n",
    "    far=1000,\n",
    "    children=[PointLight(\"0xffffff\", 0 )])"
   ]
  },
  {
   "cell_type": "code",
   "execution_count": 9,
   "metadata": {},
   "outputs": [],
   "source": [
    "controls = OrbitControls(\n",
    "    controlling=camera,\n",
    ")"
   ]
  },
  {
   "cell_type": "code",
   "execution_count": 10,
   "metadata": {},
   "outputs": [],
   "source": [
    "ambient_light = AmbientLight('0x222222')"
   ]
  },
  {
   "cell_type": "code",
   "execution_count": 11,
   "metadata": {},
   "outputs": [],
   "source": [
    "group = Group()"
   ]
  },
  {
   "cell_type": "code",
   "execution_count": 12,
   "metadata": {},
   "outputs": [],
   "source": [
    "scene = Scene(\n",
    "    children=[camera, ambient_light, AxesHelper(1), group],\n",
    "    background = 'black',\n",
    ")"
   ]
  },
  {
   "cell_type": "code",
   "execution_count": 13,
   "metadata": {},
   "outputs": [],
   "source": [
    "group.add(points)"
   ]
  },
  {
   "cell_type": "code",
   "execution_count": 14,
   "metadata": {},
   "outputs": [],
   "source": [
    "renderer = Renderer(\n",
    "    camera=camera,\n",
    "    scene=scene,\n",
    "    controls=[controls],\n",
    "    width=view_width, \n",
    "    height=view_height)"
   ]
  },
  {
   "cell_type": "code",
   "execution_count": 15,
   "metadata": {},
   "outputs": [
    {
     "name": "stderr",
     "output_type": "stream",
     "text": [
      "/home/loic/miniconda3/envs/pythreejs/lib/python3.6/site-packages/ipydatawidgets/ndarray/serializers.py:62: UserWarning: Cannot serialize (u)int64 data, Javascript does not support it. Casting to (u)int32.\n",
      "  warnings.warn('Cannot serialize (u)int64 data, Javascript does not support it. '\n"
     ]
    }
   ],
   "source": [
    "spin_track = NumberKeyframeTrack(name='.rotation[y]', times=[0, 1000], values=[0, 100])\n",
    "spin_clip = AnimationClip(tracks=[spin_track])\n",
    "spin_action = AnimationAction(AnimationMixer(group), spin_clip, group)"
   ]
  },
  {
   "cell_type": "code",
   "execution_count": 16,
   "metadata": {},
   "outputs": [],
   "source": [
    "from ipywidgets import IntSlider, FloatSlider, HBox, VBox\n",
    "\n",
    "n_slider, m1_slider, m2_slider = (\n",
    "    IntSlider(description='n', min=5, max=50, step=1, value=n,\n",
    "              continuous_update=False, orientation='vertical'),\n",
    "    FloatSlider(description='m1', min=0.01, max=4.0, step=0.01, value=m1,\n",
    "                continuous_update=False, orientation='vertical'),\n",
    "    FloatSlider(description='m2', min=0.01, max=4.0, step=0.01, value=m2,\n",
    "                continuous_update=False, orientation='vertical')\n",
    ")"
   ]
  },
  {
   "cell_type": "code",
   "execution_count": 17,
   "metadata": {},
   "outputs": [],
   "source": [
    "rx_slider, ry_slider, rz_slider = (FloatSlider(description='rx', min=0.01, max=10.0, step=0.1, value=rx, \n",
    "                                               continuous_update=False, orientation='horizontal'),\n",
    "                                   FloatSlider(description='ry', min=0.01, max=10.0, step=0.1, value=ry, \n",
    "                                               continuous_update=False, orientation='horizontal'),\n",
    "                                   FloatSlider(description='rz', min=0.01, max=10.0, step=0.1, value=rz, \n",
    "                                               continuous_update=False, orientation='horizontal'))"
   ]
  },
  {
   "cell_type": "code",
   "execution_count": 18,
   "metadata": {},
   "outputs": [],
   "source": [
    "def update(change):\n",
    "    coords = superellipsoid(n_slider.value, rx_slider.value, ry_slider.value, rz_slider.value, \n",
    "                   m1_slider.value, m2_slider.value)\n",
    "    vertices.array = coords\n",
    "    \n",
    "n_slider.observe(update, names=['value'])\n",
    "m1_slider.observe(update, names=['value'])\n",
    "m2_slider.observe(update, names=['value'])\n",
    "rx_slider.observe(update, names=['value'])\n",
    "ry_slider.observe(update, names=['value'])\n",
    "rz_slider.observe(update, names=['value'])"
   ]
  },
  {
   "cell_type": "code",
   "execution_count": 21,
   "metadata": {},
   "outputs": [
    {
     "data": {
      "application/vnd.jupyter.widget-view+json": {
       "model_id": "83d8b2f5f9c24ce5b6d3212c9bc1dc82",
       "version_major": 2,
       "version_minor": 0
      },
      "text/html": [
       "<p>Failed to display Jupyter Widget of type <code>VBox</code>.</p>\n",
       "<p>\n",
       "  If you're reading this message in the Jupyter Notebook or JupyterLab Notebook, it may mean\n",
       "  that the widgets JavaScript is still loading. If this message persists, it\n",
       "  likely means that the widgets JavaScript library is either not installed or\n",
       "  not enabled. See the <a href=\"https://ipywidgets.readthedocs.io/en/stable/user_install.html\">Jupyter\n",
       "  Widgets Documentation</a> for setup instructions.\n",
       "</p>\n",
       "<p>\n",
       "  If you're reading this message in another frontend (for example, a static\n",
       "  rendering on GitHub or <a href=\"https://nbviewer.jupyter.org/\">NBViewer</a>),\n",
       "  it may mean that your frontend doesn't currently support widgets.\n",
       "</p>\n"
      ],
      "text/plain": [
       "VBox(children=(HBox(children=(Renderer(camera=PerspectiveCamera(aspect=1.5, children=(PointLight(color='0xffffff', intensity=0.0, quaternion=(0.0, 0.0, 0.0, 1.0), scale=(1.0, 1.0, 1.0), up=(0.0, 1.0, 0.0)),), far=1000.0, near=1.0, position=(3.373094094168995, 2.7715244561523895, -3.885084509024818), projectionMatrix=(1.4296712803397058, 0.0, 0.0, 0.0, 0.0, 2.1445069205095586, 0.0, 0.0, 0.0, 0.0, -1.002002002002002, -1.0, 0.0, 0.0, -2.002002002002002, 0.0), quaternion=(-0.08557285113612151, 0.9083355747804472, 0.2290879575961793, 0.3392970356798315), scale=(1.0, 1.0, 1.0), type='PerspectiveCamera', up=(0.0, 1.0, 0.0)), controls=[OrbitControls(controlling=PerspectiveCamera(aspect=1.5, children=(PointLight(color='0xffffff', intensity=0.0, quaternion=(0.0, 0.0, 0.0, 1.0), scale=(1.0, 1.0, 1.0), up=(0.0, 1.0, 0.0)),), far=1000.0, near=1.0, position=(3.373094094168995, 2.7715244561523895, -3.885084509024818), projectionMatrix=(1.4296712803397058, 0.0, 0.0, 0.0, 0.0, 2.1445069205095586, 0.0, 0.0, 0.0, 0.0, -1.002002002002002, -1.0, 0.0, 0.0, -2.002002002002002, 0.0), quaternion=(-0.08557285113612151, 0.9083355747804472, 0.2290879575961793, 0.3392970356798315), scale=(1.0, 1.0, 1.0), type='PerspectiveCamera', up=(0.0, 1.0, 0.0)))], scene=Scene(background='black', children=(PerspectiveCamera(aspect=1.5, children=(PointLight(color='0xffffff', intensity=0.0, quaternion=(0.0, 0.0, 0.0, 1.0), scale=(1.0, 1.0, 1.0), up=(0.0, 1.0, 0.0)),), far=1000.0, near=1.0, position=(3.373094094168995, 2.7715244561523895, -3.885084509024818), projectionMatrix=(1.4296712803397058, 0.0, 0.0, 0.0, 0.0, 2.1445069205095586, 0.0, 0.0, 0.0, 0.0, -1.002002002002002, -1.0, 0.0, 0.0, -2.002002002002002, 0.0), quaternion=(-0.08557285113612151, 0.9083355747804472, 0.2290879575961793, 0.3392970356798315), scale=(1.0, 1.0, 1.0), type='PerspectiveCamera', up=(0.0, 1.0, 0.0)), AmbientLight(color='0x222222', quaternion=(0.0, 0.0, 0.0, 1.0), scale=(1.0, 1.0, 1.0), type='AmbientLight', up=(0.0, 1.0, 0.0)), AxesHelper(quaternion=(0.0, 0.0, 0.0, 1.0), scale=(1.0, 1.0, 1.0), type='LineSegments', up=(0.0, 1.0, 0.0)), Group(children=(Points(geometry=BufferGeometry(attributes={'position': BufferAttribute(array=array([[ 1.0228853 ,  0.9930925 , -0.99654025],\n",
       "       [ 0.9205967 ,  0.8937833 , -1.        ],\n",
       "       [ 0.81830823,  0.794474  , -1.        ],\n",
       "       ...,\n",
       "       [ 1.03      ,  0.8968862 , -0.6975782 ],\n",
       "       [ 1.03      ,  0.8968862 , -0.7972322 ],\n",
       "       [ 1.03      ,  0.8968862 , -0.8968862 ]], dtype=float32), normalized=False, version=17)}, type='BufferGeometry'), material=PointsMaterial(alphaTest=0.5, color='#80bfff', map=ImageTexture(imageUri='disc.png', repeat=(1.0, 1.0), version=1), size=0.1, type='PointsMaterial'), quaternion=(0.0, 0.0, 0.0, 1.0), scale=(1.0, 1.0, 1.0), type='Points', up=(0.0, 1.0, 0.0)),), quaternion=(0.0, 0.0, 0.0, 1.0), scale=(1.0, 1.0, 1.0), type='Group', up=(0.0, 1.0, 0.0))), fog=None, overrideMaterial=None, quaternion=(0.0, 0.0, 0.0, 1.0), scale=(1.0, 1.0, 1.0), type='Scene', up=(0.0, 1.0, 0.0)), shadowMap=WebGLShadowMap()), VBox(children=(HBox(children=(FloatSlider(value=0.01, continuous_update=False, description='m1', max=4.0, min=0.01, orientation='vertical', step=0.01), FloatSlider(value=0.01, continuous_update=False, description='m2', max=4.0, min=0.01, orientation='vertical', step=0.01), IntSlider(value=21, continuous_update=False, description='n', max=50, min=5, orientation='vertical'))), AnimationAction(clip=AnimationClip(duration=1000.0, tracks=(NumberKeyframeTrack(name='.rotation[y]', times=array([   0, 1000]), values=array([  0, 100])),)), localRoot=Group(children=(Points(geometry=BufferGeometry(attributes={'position': BufferAttribute(array=array([[ 1.0228853 ,  0.9930925 , -0.99654025],\n",
       "       [ 0.9205967 ,  0.8937833 , -1.        ],\n",
       "       [ 0.81830823,  0.794474  , -1.        ],\n",
       "       ...,\n",
       "       [ 1.03      ,  0.8968862 , -0.6975782 ],\n",
       "       [ 1.03      ,  0.8968862 , -0.7972322 ],\n",
       "       [ 1.03      ,  0.8968862 , -0.8968862 ]], dtype=float32), normalized=False, version=17)}, type='BufferGeometry'), material=PointsMaterial(alphaTest=0.5, color='#80bfff', map=ImageTexture(imageUri='disc.png', repeat=(1.0, 1.0), version=1), size=0.1, type='PointsMaterial'), quaternion=(0.0, 0.0, 0.0, 1.0), scale=(1.0, 1.0, 1.0), type='Points', up=(0.0, 1.0, 0.0)),), quaternion=(0.0, 0.0, 0.0, 1.0), scale=(1.0, 1.0, 1.0), type='Group', up=(0.0, 1.0, 0.0)), mixer=AnimationMixer(rootObject=Group(children=(Points(geometry=BufferGeometry(attributes={'position': BufferAttribute(array=array([[ 1.0228853 ,  0.9930925 , -0.99654025],\n",
       "       [ 0.9205967 ,  0.8937833 , -1.        ],\n",
       "       [ 0.81830823,  0.794474  , -1.        ],\n",
       "       ...,\n",
       "       [ 1.03      ,  0.8968862 , -0.6975782 ],\n",
       "       [ 1.03      ,  0.8968862 , -0.7972322 ],\n",
       "       [ 1.03      ,  0.8968862 , -0.8968862 ]], dtype=float32), normalized=False, version=17)}, type='BufferGeometry'), material=PointsMaterial(alphaTest=0.5, color='#80bfff', map=ImageTexture(imageUri='disc.png', repeat=(1.0, 1.0), version=1), size=0.1, type='PointsMaterial'), quaternion=(0.0, 0.0, 0.0, 1.0), scale=(1.0, 1.0, 1.0), type='Points', up=(0.0, 1.0, 0.0)),), quaternion=(0.0, 0.0, 0.0, 1.0), scale=(1.0, 1.0, 1.0), type='Group', up=(0.0, 1.0, 0.0)))))))), FloatSlider(value=1.03, continuous_update=False, description='rx', max=10.0, min=0.01, step=0.01), FloatSlider(value=1.0, continuous_update=False, description='ry', max=10.0, min=0.01, step=0.01), FloatSlider(value=1.0, continuous_update=False, description='rz', max=10.0, min=0.01, step=0.01)))"
      ]
     },
     "metadata": {},
     "output_type": "display_data"
    }
   ],
   "source": [
    "VBox([HBox([renderer, \n",
    "            VBox([HBox([m1_slider, m2_slider, n_slider]), spin_action])\n",
    "           ]),\n",
    "      rx_slider, \n",
    "      ry_slider,\n",
    "      rz_slider])"
   ]
  },
  {
   "cell_type": "code",
   "execution_count": null,
   "metadata": {},
   "outputs": [],
   "source": []
  }
 ],
 "metadata": {
  "anaconda-cloud": {},
  "kernelspec": {
   "display_name": "Python 3",
   "language": "python",
   "name": "python3"
  },
  "language_info": {
   "codemirror_mode": {
    "name": "ipython",
    "version": 3
   },
   "file_extension": ".py",
   "mimetype": "text/x-python",
   "name": "python",
   "nbconvert_exporter": "python",
   "pygments_lexer": "ipython3",
   "version": "3.6.4"
  },
  "widgets": {
   "state": {
    "5eb4554c95814fc6b83135c8b1a7a5ee": {
     "views": [
      {
       "cell_index": 8
      }
     ]
    },
    "b9b3e029e6554c0caee4a3cd691eb821": {
     "views": [
      {
       "cell_index": 12
      }
     ]
    }
   },
   "version": "1.2.0"
  }
 },
 "nbformat": 4,
 "nbformat_minor": 1
}

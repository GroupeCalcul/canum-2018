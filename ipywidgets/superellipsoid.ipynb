{
 "cells": [
  {
   "cell_type": "markdown",
   "metadata": {},
   "source": [
    "# How to use pythreejs to plot a superellipsoid"
   ]
  },
  {
   "cell_type": "markdown",
   "metadata": {},
   "source": [
    "A superellipsoid is given by a parametric function and the equation is very similar to an ellipse equation. We only have different exponents which give us different shapes. For more informations: https://en.wikipedia.org/wiki/Superellipsoid.\n",
    "\n",
    "The idea of this example is to construct the mesh of the square $[0, 1]\\times[0,1]$ and to do a projection of these points on the superillipse which is the 2D shape and then to do a spherical product to have the 3D shape."
   ]
  },
  {
   "cell_type": "code",
   "execution_count": 1,
   "metadata": {},
   "outputs": [],
   "source": [
    "from pythreejs import *\n",
    "from ipywidgets import IntSlider, FloatSlider, HBox, VBox\n",
    "from IPython.display import display\n",
    "import numpy as np"
   ]
  },
  {
   "cell_type": "code",
   "execution_count": 2,
   "metadata": {},
   "outputs": [],
   "source": [
    "def superellipsoid(n, rx, ry, rz, m1, m2):\n",
    "    \"\"\"\n",
    "    superellipsoid formula with the spherical product of two superellipse\n",
    "    and update of the global coords array\n",
    "    \n",
    "    Parameters\n",
    "    ----------\n",
    "    rx : the radius in the x direction \n",
    "    ry : the radius in the y direction \n",
    "    rz : the radius in the z direction \n",
    "    m1 : the exponent of the first superellipse\n",
    "    m2 : the exponent of the second superellipse\n",
    "    \"\"\"\n",
    "    \n",
    "    x_box = np.concatenate((np.linspace(-1, 1., n), np.ones(n-2), np.linspace(1, -1., n), -np.ones(n-2)))\n",
    "    y_box = np.concatenate((-np.ones(n-1), np.linspace(-1, 1., n), np.ones(n-2), np.linspace(1, -1., n-1, endpoint=False)))\n",
    "    nx_box = x_box.size\n",
    "\n",
    "    coords = np.empty((nx_box**2, 3), dtype=np.float32)\n",
    "    \n",
    "    def superellipse(rx, ry, m):\n",
    "        \"\"\"\n",
    "        superellipse formula with the projection of the unit square\n",
    "\n",
    "        Parameters\n",
    "        ----------\n",
    "        rx : the radius in the x direction \n",
    "        ry : the radius in the y direction \n",
    "        m : the exponent of the superellipse\n",
    "\n",
    "        Output\n",
    "        ------\n",
    "        the coordinates of the superellipse\n",
    "        \"\"\"\n",
    "        return x_box*rx*(1. - .5*np.abs(y_box)**(2./m))**(m/2.),  y_box*ry*(1. - .5*np.abs(x_box)**(2./m))**(m/2.)\n",
    "\n",
    "    gx, gy = superellipse(1, 1, m2)\n",
    "    hx, hy = superellipse(1, 1, m1)\n",
    "    \n",
    "    coords[:, 0] = rx*(gx[np.newaxis, :]*hx[:, np.newaxis]).flatten()\n",
    "    coords[:, 1] = ry*(gx[np.newaxis, :]*hy[:, np.newaxis]).flatten()\n",
    "    coords[:, 2] = rz*(gy[np.newaxis, :]*np.ones(hx.size)[:, np.newaxis]).flatten()\n",
    "    \n",
    "    return coords"
   ]
  },
  {
   "cell_type": "code",
   "execution_count": 3,
   "metadata": {},
   "outputs": [],
   "source": [
    "# superellipsoid parameters\n",
    "n = 20\n",
    "rx = ry = rz = 1.\n",
    "m1 = m2 = 1.\n",
    "\n",
    "coords = superellipsoid(n, rx, ry, rz, m1, m2)"
   ]
  },
  {
   "cell_type": "code",
   "execution_count": 4,
   "metadata": {},
   "outputs": [],
   "source": [
    "view_width = 600\n",
    "view_height = 400\n",
    "\n",
    "vertices = BufferAttribute(\n",
    "    array=coords,\n",
    "    normalized=False)\n",
    "\n",
    "meshGeometry = BufferGeometry(\n",
    "    attributes={\n",
    "        'position': vertices,\n",
    "    }\n",
    ")"
   ]
  },
  {
   "cell_type": "code",
   "execution_count": 6,
   "metadata": {},
   "outputs": [],
   "source": [
    "texture = ImageTexture('disc.png')"
   ]
  },
  {
   "cell_type": "code",
   "execution_count": 7,
   "metadata": {},
   "outputs": [],
   "source": [
    "pointsMaterial = PointsMaterial(\n",
    "    color='#80bfff',\n",
    "    map=texture,\n",
    "    size=.1,\n",
    "    alphaTest=0.5,\n",
    ")"
   ]
  },
  {
   "cell_type": "code",
   "execution_count": 8,
   "metadata": {},
   "outputs": [],
   "source": [
    "points = Points(\n",
    "    geometry=meshGeometry,\n",
    "    material=pointsMaterial    \n",
    ")"
   ]
  },
  {
   "cell_type": "code",
   "execution_count": 9,
   "metadata": {},
   "outputs": [],
   "source": [
    "camera = PerspectiveCamera(\n",
    "    position=[2, 2, 1],\n",
    "    aspect=view_width / view_height,\n",
    "    near=1,\n",
    "    far=1000,\n",
    "    children=[PointLight(\"0xffffff\", 0 )])"
   ]
  },
  {
   "cell_type": "code",
   "execution_count": 10,
   "metadata": {},
   "outputs": [],
   "source": [
    "controls = OrbitControls(\n",
    "    controlling=camera,\n",
    ")"
   ]
  },
  {
   "cell_type": "code",
   "execution_count": 11,
   "metadata": {},
   "outputs": [],
   "source": [
    "ambient_light = AmbientLight('0x222222')"
   ]
  },
  {
   "cell_type": "code",
   "execution_count": 12,
   "metadata": {},
   "outputs": [],
   "source": [
    "scene = Scene(\n",
    "    children=[camera, ambient_light, AxesHelper(1), points],\n",
    "    background = 'black',\n",
    ")"
   ]
  },
  {
   "cell_type": "code",
   "execution_count": 13,
   "metadata": {},
   "outputs": [],
   "source": [
    "renderer = Renderer(\n",
    "    camera=camera,\n",
    "    scene=scene,\n",
    "    controls=[controls],\n",
    "    width=view_width, \n",
    "    height=view_height)"
   ]
  },
  {
   "cell_type": "code",
   "execution_count": 14,
   "metadata": {},
   "outputs": [],
   "source": [
    "spin_track = NumberKeyframeTrack(name='.rotation[y]', times=[0, 1000], values=[0, 100])\n",
    "spin_clip = AnimationClip(tracks=[spin_track])\n",
    "spin_action = AnimationAction(AnimationMixer(points), spin_clip, points)"
   ]
  },
  {
   "cell_type": "code",
   "execution_count": 15,
   "metadata": {},
   "outputs": [],
   "source": [
    "n_slider, m1_slider, m2_slider = (\n",
    "    IntSlider(description='n', min=5, max=50, step=1, value=n,\n",
    "              continuous_update=False, orientation='vertical'),\n",
    "    FloatSlider(description='m1', min=0.01, max=4.0, step=0.01, value=m1,\n",
    "                continuous_update=False, orientation='vertical'),\n",
    "    FloatSlider(description='m2', min=0.01, max=4.0, step=0.01, value=m2,\n",
    "                continuous_update=False, orientation='vertical')\n",
    ")"
   ]
  },
  {
   "cell_type": "code",
   "execution_count": 16,
   "metadata": {},
   "outputs": [],
   "source": [
    "rx_slider, ry_slider, rz_slider = (FloatSlider(description='rx', min=0.01, max=10.0, step=0.1, value=rx, \n",
    "                                               continuous_update=False, orientation='horizontal'),\n",
    "                                   FloatSlider(description='ry', min=0.01, max=10.0, step=0.1, value=ry, \n",
    "                                               continuous_update=False, orientation='horizontal'),\n",
    "                                   FloatSlider(description='rz', min=0.01, max=10.0, step=0.1, value=rz, \n",
    "                                               continuous_update=False, orientation='horizontal'))"
   ]
  },
  {
   "cell_type": "code",
   "execution_count": 17,
   "metadata": {},
   "outputs": [],
   "source": [
    "def update(change):\n",
    "    coords = superellipsoid(n_slider.value, rx_slider.value, ry_slider.value, rz_slider.value, \n",
    "                   m1_slider.value, m2_slider.value)\n",
    "    vertices.array = coords\n",
    "    \n",
    "n_slider.observe(update, names=['value'])\n",
    "m1_slider.observe(update, names=['value'])\n",
    "m2_slider.observe(update, names=['value'])\n",
    "rx_slider.observe(update, names=['value'])\n",
    "ry_slider.observe(update, names=['value'])\n",
    "rz_slider.observe(update, names=['value'])"
   ]
  },
  {
   "cell_type": "code",
   "execution_count": 18,
   "metadata": {},
   "outputs": [
    {
     "data": {
      "application/vnd.jupyter.widget-view+json": {
       "model_id": "c493e052d50b48dba25719625ffb792b",
       "version_major": 2,
       "version_minor": 0
      },
      "text/plain": [
       "VBox(children=(HBox(children=(Renderer(camera=PerspectiveCamera(aspect=1.5, children=(PointLight(color='0xffff…"
      ]
     },
     "metadata": {},
     "output_type": "display_data"
    }
   ],
   "source": [
    "VBox([HBox([renderer, \n",
    "            VBox([HBox([m1_slider, m2_slider, n_slider]), spin_action])\n",
    "           ]),\n",
    "      rx_slider, \n",
    "      ry_slider,\n",
    "      rz_slider])"
   ]
  },
  {
   "cell_type": "code",
   "execution_count": 19,
   "metadata": {
    "collapsed": true
   },
   "outputs": [],
   "source": [
    "renderer._width = 1000"
   ]
  },
  {
   "cell_type": "code",
   "execution_count": 20,
   "metadata": {},
   "outputs": [],
   "source": [
    "renderer._height = 800"
   ]
  },
  {
   "cell_type": "code",
   "execution_count": null,
   "metadata": {},
   "outputs": [],
   "source": []
  }
 ],
 "metadata": {
  "anaconda-cloud": {},
  "kernelspec": {
   "display_name": "Python 3",
   "language": "python",
   "name": "python3"
  },
  "language_info": {
   "codemirror_mode": {
    "name": "ipython",
    "version": 3
   },
   "file_extension": ".py",
   "mimetype": "text/x-python",
   "name": "python",
   "nbconvert_exporter": "python",
   "pygments_lexer": "ipython3",
   "version": "3.6.4"
  },
  "widgets": {
   "state": {
    "5eb4554c95814fc6b83135c8b1a7a5ee": {
     "views": [
      {
       "cell_index": 8
      }
     ]
    },
    "b9b3e029e6554c0caee4a3cd691eb821": {
     "views": [
      {
       "cell_index": 12
      }
     ]
    }
   },
   "version": "1.2.0"
  }
 },
 "nbformat": 4,
 "nbformat_minor": 2
}

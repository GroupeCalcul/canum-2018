{
 "cells": [
  {
   "cell_type": "markdown",
   "metadata": {},
   "source": [
    "# Binder \n",
    "\n",
    "This is a free, public demo of BinderHub the software binderhub.readthedocs.io/en/latest/, BinderHub uses repo2docker.readthedocs.io/en/latest/ to build the repos."
   ]
  },
  {
   "cell_type": "markdown",
   "metadata": {},
   "source": [
    "- Binder is a service that provides your code, the hardware, and the software."
   ]
  },
  {
   "cell_type": "markdown",
   "metadata": {},
   "source": [
    "f you have code on GitHub that you want to work on mybinder.org then checkout mybinder.readthedocs.io/en/latest/usin…"
   ]
  },
  {
   "cell_type": "markdown",
   "metadata": {},
   "source": [
    "Curious about the magic that turns a repository into a docker container? Read about repo2docker repo2docker.readthedocs.io/en/latest/ which does the heavy lifting and is a cool tool by itself (I use it all the time independent of Binder)"
   ]
  },
  {
   "cell_type": "markdown",
   "metadata": {},
   "source": [
    "Want to setup your own copy of mybinder.org? Then look at BinderHub and the \"Zero to BinderHub\" guide: binderhub.readthedocs.io/en/latest/#zer…"
   ]
  },
  {
   "cell_type": "markdown",
   "metadata": {},
   "source": [
    "Need some examples or want to start from a working setup? We have lots of examples that work Python, R, Latex, conda, docker: mybinder.readthedocs.io/en/latest/inde…"
   ]
  },
  {
   "cell_type": "markdown",
   "metadata": {},
   "source": [
    "- The maximum number of simultaneous users for a given repo is 100"
   ]
  }
 ],
 "metadata": {
  "kernelspec": {
   "display_name": "Python 3",
   "language": "python",
   "name": "python3"
  },
  "language_info": {
   "codemirror_mode": {
    "name": "ipython",
    "version": 3
   },
   "file_extension": ".py",
   "mimetype": "text/x-python",
   "name": "python",
   "nbconvert_exporter": "python",
   "pygments_lexer": "ipython3",
   "version": "3.6.5"
  }
 },
 "nbformat": 4,
 "nbformat_minor": 2
}

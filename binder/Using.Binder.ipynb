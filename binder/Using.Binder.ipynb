{
 "cells": [
  {
   "cell_type": "markdown",
   "metadata": {
    "slideshow": {
     "slide_type": "slide"
    }
   },
   "source": [
    "# Preparing a repository for Binder\n",
    "\n",
    "## Supported configuration files\n",
    "\n",
    "list in the order of build priority\n",
    "\n",
    "- Dockerfile\n",
    "- environment.yml\n",
    "- requirements.txt\n",
    "- REQUIRE\n",
    "- apt.txt\n",
    "- postBuild\n",
    "- runtime.txt\n"
   ]
  },
  {
   "cell_type": "markdown",
   "metadata": {
    "slideshow": {
     "slide_type": "slide"
    }
   },
   "source": [
    "## environment.yml\n",
    "\n",
    "This is a conda environment specification, that lets you install packages with conda (https://conda.io/docs/).\n",
    "\n",
    "Example Contents\n",
    "~~~\n",
    "channels:\n",
    "  - conda-forge\n",
    "  - defaults\n",
    "dependencies:\n",
    "  - matplotlib\n",
    "  - pip:\n",
    "    - sphinx-gallery\n",
    "~~~"
   ]
  },
  {
   "cell_type": "markdown",
   "metadata": {
    "slideshow": {
     "slide_type": "slide"
    }
   },
   "source": [
    "## requirements.txt\n",
    "\n",
    "This specifies a list of Python packages that should be installed in a virtualenv (or conda environment).\n",
    "\n",
    "Example Contents\n",
    "\n",
    "~~~\n",
    "numpy==1.11\n",
    "matplotlib==2.1\n",
    "scipy\n",
    "~~~"
   ]
  },
  {
   "cell_type": "markdown",
   "metadata": {
    "slideshow": {
     "slide_type": "slide"
    }
   },
   "source": [
    "## apt.txt\n",
    "\n",
    "A list of Debian packages that should be installed. The base image used is usually the latest released version of Ubuntu.\n",
    "\n",
    "Example Contents\n",
    "\n",
    "~~~\n",
    "ffmpeg\n",
    "graphviz\n",
    "~~~"
   ]
  },
  {
   "cell_type": "markdown",
   "metadata": {},
   "source": [
    "## postBuild\n",
    "A script that can contain arbitrary commands to be run after the whole repository has been built. If you want this to be a shell script, make sure the first line is `#!/bin/bash`.\n",
    "\n",
    "Example Contents\n",
    "\n",
    "~~~\n",
    "wget <url-to-dataset>\n",
    "python myfile.py\n",
    "~~~\n",
    "\n",
    "### Note:\n",
    "This file must be executable to be used with repo2docker. To do this, run the following:\n",
    "```bash\n",
    "chmod +x postBuild\n",
    "```"
   ]
  },
  {
   "cell_type": "markdown",
   "metadata": {},
   "source": [
    "## Launching your Binder\n",
    "\n",
    "- Go to mybinder.org and insert the URL for your git repository. \n",
    "- Press Launch to automatically create your Binder. \n",
    "- Binder will only build a new one if the git hashes don’t match.\n",
    "\n"
   ]
  },
  {
   "cell_type": "markdown",
   "metadata": {
    "slideshow": {
     "slide_type": "slide"
    }
   },
   "source": [
    "## JupyterLab + Binder\n",
    "\n",
    "1. Launch a Binder instance\n",
    "2. Replace tree at the end of your URL with lab.\n",
    "3. That’s it!"
   ]
  },
  {
   "cell_type": "code",
   "execution_count": null,
   "metadata": {},
   "outputs": [],
   "source": []
  }
 ],
 "metadata": {
  "celltoolbar": "Slideshow",
  "kernelspec": {
   "display_name": "Python 3",
   "language": "python",
   "name": "python3"
  },
  "language_info": {
   "codemirror_mode": {
    "name": "ipython",
    "version": 3
   },
   "file_extension": ".py",
   "mimetype": "text/x-python",
   "name": "python",
   "nbconvert_exporter": "python",
   "pygments_lexer": "ipython3",
   "version": "3.6.5"
  }
 },
 "nbformat": 4,
 "nbformat_minor": 2
}
